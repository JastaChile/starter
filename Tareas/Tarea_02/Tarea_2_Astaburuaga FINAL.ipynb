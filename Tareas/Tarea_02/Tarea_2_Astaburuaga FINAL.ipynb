{
  "nbformat": 4,
  "nbformat_minor": 0,
  "metadata": {
    "colab": {
      "provenance": []
    },
    "kernelspec": {
      "name": "python3",
      "display_name": "Python 3"
    },
    "language_info": {
      "name": "python"
    }
  },
  "cells": [
    {
      "cell_type": "markdown",
      "source": [
        "Problema 1:"
      ],
      "metadata": {
        "id": "s59XrSiKapGG"
      }
    },
    {
      "cell_type": "code",
      "source": [
        "variable = 201\n",
        "\n",
        "while(variable >-100):\n",
        "  variable = variable -1\n",
        "  print(variable)"
      ],
      "metadata": {
        "id": "Je2mcaEJamKU"
      },
      "execution_count": null,
      "outputs": []
    },
    {
      "cell_type": "markdown",
      "source": [
        "Problema 2:"
      ],
      "metadata": {
        "id": "E3z29NSekdGV"
      }
    },
    {
      "cell_type": "code",
      "source": [
        "for numero in range(-100, 201):\n",
        "    if numero % 6 == 0:\n",
        "        print(numero)\n"
      ],
      "metadata": {
        "id": "pykh7dvZkfqz"
      },
      "execution_count": null,
      "outputs": []
    },
    {
      "cell_type": "markdown",
      "source": [
        "Problema 3"
      ],
      "metadata": {
        "id": "WBnl27XBlMpb"
      }
    },
    {
      "cell_type": "code",
      "source": [
        "numero1 = float(input(\"Ingrese el primer número: \"))\n",
        "numero2 = float(input(\"Ingrese el segundo número: \"))\n",
        "\n",
        "# Inicio\n",
        "resultado = numero1 + numero2\n",
        "\n",
        "if resultado < 200:\n",
        "    print(\"El resultado es menor a 200.\")\n",
        "elif resultado > 200 and resultado < 250:\n",
        "    print(\"El resultado es mayor a 200 pero menor a 250.\")\n",
        "else:\n",
        "    print(\"El resultado es mayor a 250.\")"
      ],
      "metadata": {
        "id": "eq6Yim8plOhv"
      },
      "execution_count": null,
      "outputs": []
    },
    {
      "cell_type": "markdown",
      "source": [
        "Problema 4"
      ],
      "metadata": {
        "id": "gZslWD_NmMA3"
      }
    },
    {
      "cell_type": "code",
      "source": [
        "def evaluar_usuario(edad, gusta_musica_urbana):\n",
        "    if edad >= 18:\n",
        "        if gusta_musica_urbana:\n",
        "            return \"Buenísimo, eres mayor de edad y te gusta la música urbana. ¿Has escuchado a Quevdor?\"\n",
        "        else:\n",
        "            return \"Eres mayor de edad pero no te gusta la música urbana, no te puedo recomendar artistas :(\"\n",
        "    else:\n",
        "        return \"Eres menor de edad, no te puedo evaluar por esta vez :(\"\n",
        "\n",
        "\n",
        "edad_usuario = int(input(\"Por favor, ingresa tu edad: \"))\n",
        "\n",
        "gusta_musica_urbana = input(\"¿Te gusta la música urbana? (responde sí o no): \").lower()\n",
        "\n",
        "gusta_musica_urbana = gusta_musica_urbana == \"sí\"\n",
        "\n",
        "resultado = evaluar_usuario(edad_usuario, gusta_musica_urbana)\n",
        "print(resultado)"
      ],
      "metadata": {
        "id": "W-AwtnoMmNLN"
      },
      "execution_count": null,
      "outputs": []
    }
  ]
}